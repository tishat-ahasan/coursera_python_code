{
 "cells": [
  {
   "cell_type": "code",
   "execution_count": null,
   "metadata": {},
   "outputs": [],
   "source": [
    "import socket\n",
    "\n",
    "mysock = socket.socket(socket.AF_INET, socket.SOCK_STREAM)\n",
    "mysock.connect(('data.pr4e.org', 80))\n",
    "cmd = 'GET http://data.pr4e.org/intro-short.txt HTTP/1.0\\r\\n\\r\\n'.encode()\n",
    "mysock.send(cmd)\n",
    "\n",
    "while True:\n",
    "    data = mysock.recv(512)\n",
    "    if len(data) < 1:\n",
    "        break\n",
    "    print(data.decode(),end='')\n",
    "\n",
    "mysock.close()"
   ]
  },
  {
   "cell_type": "code",
   "execution_count": null,
   "metadata": {},
   "outputs": [],
   "source": [
    "#counting the words in a web page\n",
    "\n",
    "import urllib.request,urllib.parse,urllib.error\n",
    "link = \"http://data.pr4e.org/romeo.txt\"\n",
    "fhand = urllib.request.urlopen(link)\n",
    "cnt = dict()\n",
    "for line in fhand:\n",
    "    words = line.decode().split()\n",
    "    for word in words:\n",
    "        cnt[word] = cnt.get(word,0)+1\n",
    "for k,v in cnt.items():\n",
    "    print(k,v)\n"
   ]
  },
  {
   "cell_type": "code",
   "execution_count": null,
   "metadata": {},
   "outputs": [],
   "source": [
    "#BeautifulSuop example\n",
    "import urllib.request,urllib.parse,urllib.error\n",
    "from bs4 import BeautifulSoup\n",
    "import ssl\n",
    "\n",
    "# Ignore SSL certificate errors\n",
    "ctx = ssl.create_default_context()\n",
    "ctx.check_hostname = False\n",
    "ctx.verify_mode = ssl.CERT_NONE\n",
    "\n",
    "\n",
    "link = \"http://dr-chuck.com/page1.htm\"\n",
    "html = urllib.request.urlopen(link,context=ctx).read()\n",
    "soup = BeautifulSoup(html,\"html.parser\")\n",
    "tags = soup('a')\n",
    "for tag in tags:\n",
    "    print(tag.get(\"href\",None))"
   ]
  },
  {
   "cell_type": "code",
   "execution_count": null,
   "metadata": {},
   "outputs": [],
   "source": [
    "## Assignemt 1 of week 4\n",
    "\n",
    "\n",
    "import urllib.request,urllib.parse,urllib.error\n",
    "from bs4 import BeautifulSoup\n",
    "import ssl\n",
    "\n",
    "# Ignore SSL certificate errors\n",
    "ctx = ssl.create_default_context()\n",
    "ctx.check_hostname = False\n",
    "ctx.verify_mode = ssl.CERT_NONE\n",
    "\n",
    "#sample link - sum:2553\n",
    "#link = \"http://py4e-data.dr-chuck.net/comments_42.html\"\n",
    "#actual link sum: 2458\n",
    "link = \"http://py4e-data.dr-chuck.net/comments_425343.html\"\n",
    "html = urllib.request.urlopen(link,context=ctx).read()\n",
    "soup = BeautifulSoup(html,\"html.parser\")\n",
    "tot = 0\n",
    "tags = soup('span')\n",
    "\n",
    "for tag in tags:\n",
    "    tot = tot + int(tag.contents[0])\n",
    "print(tot)"
   ]
  },
  {
   "cell_type": "code",
   "execution_count": null,
   "metadata": {},
   "outputs": [],
   "source": [
    "## Assignemt 2 of week 4\n",
    "\n",
    "\n",
    "import urllib.request,urllib.parse,urllib.error\n",
    "from bs4 import BeautifulSoup\n",
    "import ssl\n",
    "\n",
    "# Ignore SSL certificate errors\n",
    "ctx = ssl.create_default_context()\n",
    "ctx.check_hostname = False\n",
    "ctx.verify_mode = ssl.CERT_NONE\n",
    "\n",
    "\n",
    "link = input(\"Enter URL: \")\n",
    "count = int(input(\"Enter count: \"))\n",
    "position = int(input(\"Enter position: \"))\n",
    "#sample link - \n",
    "link = \"http://py4e-data.dr-chuck.net/known_by_Fikret.html\"\n",
    "#actual link \n",
    "link = \"http://py4e-data.dr-chuck.net/known_by_Mhyren.html\"\n",
    "\n",
    "\n",
    "for j in range(count):\n",
    "    i = 0;\n",
    "    html = urllib.request.urlopen(link,context=ctx).read()\n",
    "    soup = BeautifulSoup(html,\"html.parser\")\n",
    "    tags = soup('a')\n",
    "    for tag in tags:\n",
    "        i = i+1\n",
    "        if i==position:\n",
    "            link = tag.get(\"href\",None)\n",
    "            break\n",
    "    print(link)"
   ]
  },
  {
   "cell_type": "code",
   "execution_count": null,
   "metadata": {},
   "outputs": [],
   "source": []
  }
 ],
 "metadata": {
  "kernelspec": {
   "display_name": "Python 3",
   "language": "python",
   "name": "python3"
  },
  "language_info": {
   "codemirror_mode": {
    "name": "ipython",
    "version": 3
   },
   "file_extension": ".py",
   "mimetype": "text/x-python",
   "name": "python",
   "nbconvert_exporter": "python",
   "pygments_lexer": "ipython3",
   "version": "3.7.3"
  }
 },
 "nbformat": 4,
 "nbformat_minor": 2
}

{
 "cells": [
  {
   "cell_type": "code",
   "execution_count": null,
   "metadata": {},
   "outputs": [],
   "source": [
    "import re\n",
    "fp = open(\"regex_sum_425341.txt\")\n",
    "num = list()\n",
    "for line in fp:\n",
    "    tmp = re.findall('[0-9]+',line)\n",
    "    num = num+tmp\n",
    "tot = 0\n",
    "for x in num:\n",
    "    tot = tot + int(x)\n",
    "print(tot)"
   ]
  },
  {
   "cell_type": "code",
   "execution_count": null,
   "metadata": {},
   "outputs": [],
   "source": [
    "import re\n",
    "def getPoint(filenam):\n",
    "    fp = open(filenam)\n",
    "    num = list()\n",
    "    flag1 = 0\n",
    "    flag2 = 0\n",
    "    flag3 = 0\n",
    "    flag4 = 0\n",
    "    for line in fp:\n",
    "        tmp = re.findall('^\\[agent\\] id:([0-9]+)',line)\n",
    "        if (len(tmp)>0):\n",
    "    #         print(\"Agent id\",tmp)\n",
    "            flag1 = 1\n",
    "            continue\n",
    "        if flag1 == 1:\n",
    "            flag2 = 1\n",
    "            flag1 = 0\n",
    "            x = line.split(\",\")\n",
    "            x = x[0].split(\":\")\n",
    "            x = int(x[1])\n",
    "            print(x//128,\"\",x%128,end =\" \")\n",
    "            continue\n",
    "        if flag2 == 1:\n",
    "            x = line.split(\",\")\n",
    "            x = x[0].split(\":\")\n",
    "            x = int(x[1])\n",
    "            print(x//128,\"\",x%128)\n",
    "            flag2 = 0\n",
    "            continue\n",
    "#     if flag3 == 1:\n",
    "#         flag3 = 0\n",
    "#         flag4 = 1\n",
    "#         continue\n",
    "#     if flag4 == 1:\n",
    "        \n",
    "#         flag4 = 0\n",
    "#         continue\n"
   ]
  },
  {
   "cell_type": "code",
   "execution_count": null,
   "metadata": {},
   "outputs": [],
   "source": [
    "getPoint(\"xyz.txt\")\n",
    "\n",
    "print(\"################\")\n",
    "\n",
    "getPoint(\"xyz2.txt\")"
   ]
  },
  {
   "cell_type": "code",
   "execution_count": null,
   "metadata": {},
   "outputs": [],
   "source": []
  }
 ],
 "metadata": {
  "kernelspec": {
   "display_name": "Python 3",
   "language": "python",
   "name": "python3"
  },
  "language_info": {
   "codemirror_mode": {
    "name": "ipython",
    "version": 3
   },
   "file_extension": ".py",
   "mimetype": "text/x-python",
   "name": "python",
   "nbconvert_exporter": "python",
   "pygments_lexer": "ipython3",
   "version": "3.7.3"
  }
 },
 "nbformat": 4,
 "nbformat_minor": 2
}

{
 "cells": [
  {
   "cell_type": "code",
   "execution_count": null,
   "metadata": {},
   "outputs": [],
   "source": [
    "#parsing XML\n",
    "\n",
    "import xml.etree.ElementTree as ET\n",
    "data = '''<person>\n",
    "        <name>Tishat Ahasan</name>\n",
    "        <phone type=\"intl\">+880 178 7962658 </phone>\n",
    "        <email hide=\"yes\" />\n",
    "        </person>\n",
    "    '''\n",
    "tree = ET.fromstring(data)\n",
    "print(\"Name\",tree.find('name').text)\n",
    "print(\"Email\",tree.find('email').get('hide'))"
   ]
  },
  {
   "cell_type": "code",
   "execution_count": null,
   "metadata": {},
   "outputs": [],
   "source": [
    "data = '''\n",
    "<stuff>\n",
    "  <users>\n",
    "    <user x=\"2\">\n",
    "      <id>001</id>\n",
    "      <name>Chuck</name>\n",
    "    </user>\n",
    "    <user x=\"7\">\n",
    "      <id>009</id>\n",
    "      <name>Brent</name>\n",
    "    </user>\n",
    "  </users>\n",
    "</stuff>'''\n",
    "\n",
    "stuff = ET.fromstring(data)\n",
    "lst = stuff.findall('users/user')\n",
    "print('User count:', len(lst))\n",
    "\n",
    "for item in lst:\n",
    "    print('Name', item.find('name').text)\n",
    "    print('Id', item.find('id').text)\n",
    "    print('Attribute', item.get('x'))"
   ]
  },
  {
   "cell_type": "code",
   "execution_count": null,
   "metadata": {},
   "outputs": [],
   "source": [
    "#Assignment 1\n",
    "\n",
    "import urllib.request, urllib.parse, urllib.error\n",
    "import xml.etree.ElementTree as ET\n",
    "import ssl\n",
    "\n",
    "\n",
    "# Ignore SSL certificate errors\n",
    "ctx = ssl.create_default_context()\n",
    "ctx.check_hostname = False\n",
    "ctx.verify_mode = ssl.CERT_NONE\n",
    "\n",
    "\n",
    "address = input('Enter location: ')\n",
    "\n",
    "# address = \"http://py4e-data.dr-chuck.net/comments_42.xml\"\n",
    "\n",
    "print('Retrieving', address)\n",
    "uh = urllib.request.urlopen(address, context=ctx)\n",
    "\n",
    "data = uh.read()\n",
    "# print('Retrieved', len(data), 'characters')\n",
    "\n",
    "tree = ET.fromstring(data)\n",
    "counts = tree.findall('.//count')\n",
    "print(\"count:\",len(counts))\n",
    "tot = 0\n",
    "for count in counts:\n",
    "    tot = tot + int(count.text)\n",
    "print(\"sum\",tot)"
   ]
  },
  {
   "cell_type": "code",
   "execution_count": null,
   "metadata": {},
   "outputs": [],
   "source": []
  }
 ],
 "metadata": {
  "kernelspec": {
   "display_name": "Python 3",
   "language": "python",
   "name": "python3"
  },
  "language_info": {
   "codemirror_mode": {
    "name": "ipython",
    "version": 3
   },
   "file_extension": ".py",
   "mimetype": "text/x-python",
   "name": "python",
   "nbconvert_exporter": "python",
   "pygments_lexer": "ipython3",
   "version": "3.7.3"
  }
 },
 "nbformat": 4,
 "nbformat_minor": 2
}

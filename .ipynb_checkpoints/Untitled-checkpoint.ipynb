{
 "cells": [
  {
   "cell_type": "code",
   "execution_count": null,
   "metadata": {},
   "outputs": [],
   "source": [
    "x = 'From marquard@uct.ac.za'\n",
    "print(x[14:17])"
   ]
  },
  {
   "cell_type": "code",
   "execution_count": null,
   "metadata": {},
   "outputs": [],
   "source": [
    "x.upper()"
   ]
  },
  {
   "cell_type": "code",
   "execution_count": null,
   "metadata": {},
   "outputs": [],
   "source": [
    "data = 'From stephen.marquard@uct.ac.za Sat Jan  5 09:14:16 2008'\n",
    "pos = data.find('.')\n",
    "print(data[pos:pos+3])"
   ]
  },
  {
   "cell_type": "code",
   "execution_count": null,
   "metadata": {},
   "outputs": [],
   "source": [
    "x = list(range(5))"
   ]
  },
  {
   "cell_type": "code",
   "execution_count": null,
   "metadata": {},
   "outputs": [],
   "source": [
    "# fname = \"mbox-short.txt\"\n",
    "fname = \"abc.txt\"\n",
    "\n",
    "fh = open(fname)\n",
    "cnt = dict()\n",
    "count = 0\n",
    "t = 0\n",
    "for line in fh:\n",
    "    t = t+1\n",
    "    if line.startswith(\"From\"):\n",
    "        words = line.split()\n",
    "        if len(words[0]) == 5: continue\n",
    "        tmp = words[5].split(\":\")\n",
    "        cnt[tmp[0]] = cnt.get(tmp[0],0)+1\n",
    "x = sorted([(k,v) for k,v in cnt.items()])\n",
    "for i in x:\n",
    "    print(i[0],i[1])\n",
    "# mk = None\n",
    "# mv = None\n",
    "# for k,v in cnt.items():\n",
    "#     if mv == None or mv < v:\n",
    "#         mv = v\n",
    "#         mk = k\n",
    "# print(mk,mv)"
   ]
  },
  {
   "cell_type": "code",
   "execution_count": null,
   "metadata": {},
   "outputs": [],
   "source": [
    "for i in range (20):\n",
    "    print(str(i+20)+\",1,\"+str(i+20)+\",10\")"
   ]
  },
  {
   "cell_type": "code",
   "execution_count": null,
   "metadata": {},
   "outputs": [],
   "source": [
    "for i in range(128):\n",
    "    for j in range(128):\n",
    "        print(\".\",end = \"\")\n",
    "    print()"
   ]
  },
  {
   "cell_type": "code",
   "execution_count": null,
   "metadata": {},
   "outputs": [],
   "source": []
  }
 ],
 "metadata": {
  "kernelspec": {
   "display_name": "Python 3",
   "language": "python",
   "name": "python3"
  },
  "language_info": {
   "codemirror_mode": {
    "name": "ipython",
    "version": 3
   },
   "file_extension": ".py",
   "mimetype": "text/x-python",
   "name": "python",
   "nbconvert_exporter": "python",
   "pygments_lexer": "ipython3",
   "version": "3.7.3"
  }
 },
 "nbformat": 4,
 "nbformat_minor": 2
}
